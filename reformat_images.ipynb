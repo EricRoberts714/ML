{
 "cells": [
  {
   "cell_type": "code",
   "execution_count": 1,
   "metadata": {},
   "outputs": [],
   "source": [
    "import fabio\n",
    "\n"
   ]
  },
  {
   "cell_type": "code",
   "execution_count": 7,
   "metadata": {},
   "outputs": [
    {
     "name": "stdout",
     "output_type": "stream",
     "text": [
      "{\n",
      "  \"HeaderID\": \"EH:000001:000000:000000\",\n",
      "  \"Image\": \"1\",\n",
      "  \"VersionNumber\": \"0.10\",\n",
      "  \"ByteOrder\": \"LowByteFirst\",\n",
      "  \"DataType\": \"SignedInteger\",\n",
      "  \"Dim_1\": \"981\",\n",
      "  \"Dim_2\": \"1043\",\n",
      "  \"Size\": \"4092732\",\n",
      "  \"Date\": \"Fri Dec 16 06:15:28 2016\",\n",
      "  \"count_time\": \"10.000000000\",\n",
      "  \"title\": \"# Pixel_size 172e-6 m x 172e-6 m\",\n",
      "  \"run\": \"0\"\n",
      "}\n"
     ]
    },
    {
     "ename": "KeyError",
     "evalue": "'ESRFCurrent'",
     "output_type": "error",
     "traceback": [
      "\u001b[0;31m---------------------------------------------------------------------------\u001b[0m",
      "\u001b[0;31mKeyError\u001b[0m                                  Traceback (most recent call last)",
      "\u001b[0;32m<ipython-input-7-fea55c680113>\u001b[0m in \u001b[0;36m<module>\u001b[0;34m\u001b[0m\n\u001b[1;32m      4\u001b[0m \u001b[0;34m\u001b[0m\u001b[0m\n\u001b[1;32m      5\u001b[0m \u001b[0;31m# Normalise to beam current and save data\u001b[0m\u001b[0;34m\u001b[0m\u001b[0;34m\u001b[0m\u001b[0;34m\u001b[0m\u001b[0m\n\u001b[0;32m----> 6\u001b[0;31m \u001b[0msrcur\u001b[0m \u001b[0;34m=\u001b[0m \u001b[0mfloat\u001b[0m\u001b[0;34m(\u001b[0m\u001b[0mimg\u001b[0m\u001b[0;34m.\u001b[0m\u001b[0mheader\u001b[0m\u001b[0;34m[\u001b[0m\u001b[0;34m'ESRFCurrent'\u001b[0m\u001b[0;34m]\u001b[0m\u001b[0;34m)\u001b[0m\u001b[0;34m\u001b[0m\u001b[0;34m\u001b[0m\u001b[0m\n\u001b[0m\u001b[1;32m      7\u001b[0m \u001b[0mimg\u001b[0m\u001b[0;34m.\u001b[0m\u001b[0mdata\u001b[0m \u001b[0;34m*=\u001b[0m \u001b[0;36m200.0\u001b[0m\u001b[0;34m/\u001b[0m\u001b[0msrcur\u001b[0m\u001b[0;34m\u001b[0m\u001b[0;34m\u001b[0m\u001b[0m\n\u001b[1;32m      8\u001b[0m \u001b[0mimg\u001b[0m\u001b[0;34m.\u001b[0m\u001b[0mwrite\u001b[0m\u001b[0;34m(\u001b[0m\u001b[0;34m'normed_0001.edf'\u001b[0m\u001b[0;34m)\u001b[0m\u001b[0;34m\u001b[0m\u001b[0;34m\u001b[0m\u001b[0m\n",
      "\u001b[0;31mKeyError\u001b[0m: 'ESRFCurrent'"
     ]
    }
   ],
   "source": [
    "img = fabio.open('als1_1_A0p100_hi_1m.edf')\n",
    "print(img.header) \n",
    "#{'ByteOrder': 'LowByteFirst', 'DATE (scan begin)': 'Mon Jun 28 21:22:16 2010', 'ESRFCurrent': '198.099'} \n",
    "\n",
    "# Normalise to beam current and save data \n",
    "srcur = float(img.header['ESRFCurrent']) \n",
    "img.data *= 200.0/srcur \n",
    "img.write('normed_0001.edf')"
   ]
  },
  {
   "cell_type": "code",
   "execution_count": 11,
   "metadata": {},
   "outputs": [
    {
     "name": "stdout",
     "output_type": "stream",
     "text": [
      "{\n",
      "  \"HeaderID\": \"EH:000001:000000:000000\",\n",
      "  \"Image\": \"1\",\n",
      "  \"VersionNumber\": \"0.10\",\n",
      "  \"ByteOrder\": \"LowByteFirst\",\n",
      "  \"DataType\": \"SignedInteger\",\n",
      "  \"Dim_1\": \"1475\",\n",
      "  \"Dim_2\": \"1679\",\n",
      "  \"Size\": \"9906100\",\n",
      "  \"Date\": \"Fri Oct 21 17:07:17 2016\",\n",
      "  \"count_time\": \"0.100000001\",\n",
      "  \"title\": \"# Pixel_size 172e-6 m x 172e-6 m\",\n",
      "  \"run\": \"0\"\n",
      "}\n"
     ]
    }
   ],
   "source": [
    "img = fabio.open('Learning/GISAXS/014/gisaxs00000063.edf')\n",
    "print(img.header) "
   ]
  }
 ],
 "metadata": {
  "kernelspec": {
   "display_name": "Python 3",
   "language": "python",
   "name": "python3"
  },
  "language_info": {
   "codemirror_mode": {
    "name": "ipython",
    "version": 3
   },
   "file_extension": ".py",
   "mimetype": "text/x-python",
   "name": "python",
   "nbconvert_exporter": "python",
   "pygments_lexer": "ipython3",
   "version": "3.6.9"
  }
 },
 "nbformat": 4,
 "nbformat_minor": 2
}
